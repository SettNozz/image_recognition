{
 "cells": [
  {
   "cell_type": "code",
   "execution_count": 51,
   "metadata": {
    "collapsed": true,
    "deletable": true,
    "editable": true
   },
   "outputs": [],
   "source": [
    "import numpy as np\n",
    "from sklearn.cluster import KMeans\n",
    "import cv2\n",
    "from matplotlib import pyplot as plt\n",
    "from scipy.cluster.vq import vq\n",
    "import webbrowser"
   ]
  },
  {
   "cell_type": "code",
   "execution_count": 88,
   "metadata": {
    "collapsed": true
   },
   "outputs": [],
   "source": [
    "def create_img_kp(key_p, img):\n",
    "    const_size = 128\n",
    "    x = int(key_p.pt[0])\n",
    "    y = int(key_p.pt[1])\n",
    "    img1_new = img[x:const_size+x, y:const_size+y]\n",
    "    list_of_img_kp.append(img1_new)\n",
    "def ClusterIndicesNumpy(clustNum, labels_array): #numpy \n",
    "    return np.where(labels_array == clustNum)[0]\n",
    "def ClusterIndicesComp(clustNum, labels_array): #list comprehension\n",
    "    return np.array([i for i, x in enumerate(labels_array) if x == clustNum])"
   ]
  },
  {
   "cell_type": "code",
   "execution_count": 94,
   "metadata": {
    "collapsed": false,
    "deletable": true,
    "editable": true
   },
   "outputs": [
    {
     "name": "stdout",
     "output_type": "stream",
     "text": [
      "(376, 451)\n"
     ]
    }
   ],
   "source": [
    "img1 = cv2.imread('1.jpg',0)\n",
    "img2 = cv2.imread('5.jpg',0)\n",
    "sift = cv2.xfeatures2d.SIFT_create()\n",
    "kp1, des1 = sift.detectAndCompute(img1, None)\n",
    "kp2, des2 = sift.detectAndCompute(img2, None)\n",
    "#print(len(kp1), len(des1))\n",
    "all_kp = [kp1, kp2]\n",
    "print(img1.shape)\n",
    "list_of_img_kp = []\n",
    "for i in range(len(kp1)):\n",
    "    create_img_kp(kp1[i], img1)\n",
    "for i in range(len(kp2)):\n",
    "    create_img_kp(kp2[i], img2)\n",
    "# pts_1 = [p.pt for p in kp1]\n",
    "# pts_2 = [p.pt for p in kp2]"
   ]
  },
  {
   "cell_type": "code",
   "execution_count": 95,
   "metadata": {
    "collapsed": false,
    "deletable": true,
    "editable": true
   },
   "outputs": [
    {
     "name": "stdout",
     "output_type": "stream",
     "text": [
      "1014\n"
     ]
    },
    {
     "data": {
      "text/plain": [
       "1014"
      ]
     },
     "execution_count": 95,
     "metadata": {},
     "output_type": "execute_result"
    }
   ],
   "source": [
    "Z = np.vstack((des1, des2))\n",
    "Z = np.float32(Z)\n",
    "print(len(Z))\n",
    "len(list_of_img_kp)\n",
    "#kp_1, kp_2 = np.array(kp1), np.array(kp2)\n",
    "# X = np.vstack((pts_1, pts_2))\n",
    "# X = np.float32(X)"
   ]
  },
  {
   "cell_type": "code",
   "execution_count": 96,
   "metadata": {
    "collapsed": false,
    "deletable": true,
    "editable": true
   },
   "outputs": [],
   "source": [
    "n_clusters = 50\n",
    "criteria = (cv2.TERM_CRITERIA_EPS + cv2.TERM_CRITERIA_MAX_ITER, 10, 1.0)\n",
    "ret,label,center=cv2.kmeans(Z,n_clusters,None,criteria,10,cv2.KMEANS_RANDOM_CENTERS)\n",
    "len(center)\n",
    "idx,_ = vq(Z,center)"
   ]
  },
  {
   "cell_type": "code",
   "execution_count": 97,
   "metadata": {
    "collapsed": false,
    "deletable": true,
    "editable": true
   },
   "outputs": [
    {
     "name": "stdout",
     "output_type": "stream",
     "text": [
      "[14 20 10  1 16  3 10 43  6  5  1  1  9 17 47 81  1 53  6 28  1  7  5 39 30\n",
      " 48 26 50 24 14  1  1 47 20 16 28 18 37  1 17  1  6  2 45 66 45 20 10 13  4]\n",
      "15\n"
     ]
    }
   ],
   "source": [
    "arr_of_all = np.bincount(idx)\n",
    "print(arr_of_all)\n",
    "index_of_max = np.argmax(arr_of_all)\n",
    "print(index_of_max)\n",
    "list_ind_des = ClusterIndicesComp(index_of_max,label)\n",
    "\n",
    "#plt.imshow(center[index_of_max].reshape(16,8), interpolation='none')\n",
    "#im2 = cv2.drawKeypoints(img1, des1, 0, color=(0,255,0), flags=0)\n",
    "#cv2.imwrite('p.jpg', im2)"
   ]
  },
  {
   "cell_type": "code",
   "execution_count": 98,
   "metadata": {
    "collapsed": false
   },
   "outputs": [
    {
     "data": {
      "text/plain": [
       "True"
      ]
     },
     "execution_count": 98,
     "metadata": {},
     "output_type": "execute_result"
    }
   ],
   "source": [
    "cv2.imshow('target', list_of_img_kp[list_ind_des[0]])\n",
    "webbrowser.open('file:///home/settnozz/PycharmProjects/Bow_img/start.html')\n",
    "cv2.imwrite('desc1.jpg', list_of_img_kp[list_ind_des[0]])\n",
    "cv2.imwrite('desc2.jpg', list_of_img_kp[list_ind_des[2]])\n",
    "cv2.imwrite('desc3.jpg', list_of_img_kp[list_ind_des[3]])\n",
    "cv2.imwrite('desc4.jpg', list_of_img_kp[list_ind_des[4]])"
   ]
  },
  {
   "cell_type": "code",
   "execution_count": 61,
   "metadata": {
    "collapsed": false,
    "deletable": true,
    "editable": true
   },
   "outputs": [],
   "source": [
    "# A = Z[label.ravel()==0]\n",
    "# B = Z[label.ravel()==1]\n",
    "# plt.scatter(A[:,0],A[:,1])\n",
    "# plt.scatter(B[:,0],B[:,1],c = 'r')\n",
    "# plt.scatter(center[:,0],center[:,1],s = 70,c = 'y', marker = 's')\n",
    "# plt.xlabel('Height'),plt.ylabel('Weight')\n",
    "# plt.show()"
   ]
  },
  {
   "cell_type": "code",
   "execution_count": null,
   "metadata": {
    "collapsed": true,
    "deletable": true,
    "editable": true
   },
   "outputs": [],
   "source": []
  }
 ],
 "metadata": {
  "kernelspec": {
   "display_name": "Python 2",
   "language": "python",
   "name": "python2"
  },
  "language_info": {
   "codemirror_mode": {
    "name": "ipython",
    "version": 2
   },
   "file_extension": ".py",
   "mimetype": "text/x-python",
   "name": "python",
   "nbconvert_exporter": "python",
   "pygments_lexer": "ipython2",
   "version": "2.7.12"
  }
 },
 "nbformat": 4,
 "nbformat_minor": 2
}
