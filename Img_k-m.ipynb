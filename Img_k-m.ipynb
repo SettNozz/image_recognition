{
 "cells": [
  {
   "cell_type": "code",
   "execution_count": 219,
   "metadata": {
    "collapsed": true,
    "deletable": true,
    "editable": true
   },
   "outputs": [],
   "source": [
    "import numpy as np\n",
    "from sklearn.cluster import KMeans\n",
    "import cv2\n",
    "from matplotlib import pyplot as plt\n",
    "from scipy.cluster.vq import vq\n",
    "import webbrowser"
   ]
  },
  {
   "cell_type": "markdown",
   "metadata": {},
   "source": [
    "# Functions"
   ]
  },
  {
   "cell_type": "code",
   "execution_count": 220,
   "metadata": {
    "collapsed": true
   },
   "outputs": [],
   "source": [
    "def create_img_kp(key_p, img):\n",
    "    const_size = 128\n",
    "    x = int(key_p.pt[0])\n",
    "    y = int(key_p.pt[1])\n",
    "    img1_new = img[x:const_size+x, y:const_size+y]\n",
    "    list_of_img_kp.append(img1_new)\n",
    "    \n",
    "    \n",
    "def ClusterIndicesNumpy(clustNum, labels_array): #numpy \n",
    "    return np.where(labels_array == clustNum)[0]\n",
    "\n",
    "\n",
    "def ClusterIndicesComp(clustNum, labels_array): #list comprehension\n",
    "    return np.array([i for i, x in enumerate(labels_array) if x == clustNum])\n",
    "\n",
    "\n",
    "def compute_detect_kp_descr(img_name):\n",
    "    img = cv2.imread(img_name, 0)\n",
    "    sift = cv2.xfeatures2d.SIFT_create()\n",
    "    kp, des = sift.detectAndCompute(img, None)\n",
    "    des_all.append(des)\n",
    "    for i in range(len(kp)):\n",
    "        create_img_kp(kp[i], img)\n",
    "    \n",
    "def write_img(name, ind):\n",
    "    cv2.imwrite(name, ind)"
   ]
  },
  {
   "cell_type": "markdown",
   "metadata": {},
   "source": [
    "# Find all descriptors"
   ]
  },
  {
   "cell_type": "code",
   "execution_count": 221,
   "metadata": {
    "collapsed": false,
    "deletable": true,
    "editable": true
   },
   "outputs": [],
   "source": [
    "des_all = []\n",
    "list_of_img_kp = []\n",
    "compute_detect_kp_descr('1.jpg')\n",
    "compute_detect_kp_descr('5.jpg')\n",
    "descriptors_ = des_all[0][0]\n",
    "for i in des_all:\n",
    "    for descriptor in i:\n",
    "        descriptors_ = np.vstack((descriptors_, descriptor))\n",
    "        descriptors = np.float32(descriptors_)\n",
    "descriptors = np.delete(descriptors_, 1, 0)"
   ]
  },
  {
   "cell_type": "markdown",
   "metadata": {},
   "source": [
    "# Clusterisation"
   ]
  },
  {
   "cell_type": "code",
   "execution_count": 222,
   "metadata": {
    "collapsed": false,
    "deletable": true,
    "editable": true
   },
   "outputs": [],
   "source": [
    "n_clusters = 50\n",
    "criteria = (cv2.TERM_CRITERIA_EPS + cv2.TERM_CRITERIA_MAX_ITER, 10, 1.0)\n",
    "ret,label,center=cv2.kmeans(descriptors,n_clusters,None,criteria,10,cv2.KMEANS_RANDOM_CENTERS)\n",
    "idx,_ = vq(descriptors,center)"
   ]
  },
  {
   "cell_type": "markdown",
   "metadata": {},
   "source": [
    "# Find maximal cluster size"
   ]
  },
  {
   "cell_type": "code",
   "execution_count": 223,
   "metadata": {
    "collapsed": false,
    "deletable": true,
    "editable": true
   },
   "outputs": [
    {
     "name": "stdout",
     "output_type": "stream",
     "text": [
      "[ 1  8 18  1 23 15 56 11 19 43 14 59 57 67 22  2 26 30 38  1 45  4  2 11 20\n",
      " 15  6 10  4 16  1  9 35 45 41  6  1  1 10 36 54  4 15 22 35 31  1 11  1 11]\n",
      "13\n"
     ]
    }
   ],
   "source": [
    "arr_of_all = np.bincount(idx)\n",
    "print(arr_of_all)\n",
    "index_of_max = np.argmax(arr_of_all)\n",
    "print(index_of_max)\n",
    "list_ind_des = ClusterIndicesComp(index_of_max,label)"
   ]
  },
  {
   "cell_type": "markdown",
   "metadata": {},
   "source": [
    "# Report (HTML page)"
   ]
  },
  {
   "cell_type": "code",
   "execution_count": 225,
   "metadata": {
    "collapsed": false
   },
   "outputs": [
    {
     "data": {
      "text/plain": [
       "True"
      ]
     },
     "execution_count": 225,
     "metadata": {},
     "output_type": "execute_result"
    }
   ],
   "source": [
    "#cv2.imshow('target', list_of_img_kp[list_ind_des[0]])\n",
    "path_img = 'result/desc'\n",
    "for i in range(1, 5):\n",
    "    write_img(path_img + str(i) + '.jpg', list_of_img_kp[list_ind_des[i]])\n",
    "webbrowser.open('file:///home/settnozz/PycharmProjects/Bow_img/result/start.html')\n"
   ]
  }
 ],
 "metadata": {
  "kernelspec": {
   "display_name": "Python 2",
   "language": "python",
   "name": "python2"
  },
  "language_info": {
   "codemirror_mode": {
    "name": "ipython",
    "version": 2
   },
   "file_extension": ".py",
   "mimetype": "text/x-python",
   "name": "python",
   "nbconvert_exporter": "python",
   "pygments_lexer": "ipython2",
   "version": "2.7.12"
  }
 },
 "nbformat": 4,
 "nbformat_minor": 2
}
